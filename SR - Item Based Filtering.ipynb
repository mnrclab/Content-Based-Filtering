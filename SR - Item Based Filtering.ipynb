{
 "cells": [
  {
   "cell_type": "markdown",
   "metadata": {},
   "source": [
    "# **Content Based Filtering**\n",
    "\n",
    "Recommender System is a system that seeks to predict or filter preferences according to the user’s choices. Recommender systems are utilized in a variety of areas including movies, music, news, books, research articles, search queries, social tags, and products in general.\n",
    "\n",
    "Like many machine learning techniques, a recommender system makes prediction based on users’ historical behaviors. Specifically, it’s to predict user preference for a set of items based on past experience. To build a recommender system, the most two popular approaches are Content-based and Collaborative Filtering.\n",
    "\n",
    "Recommender systems produce a list of recommendations in any of the two ways –\n",
    "\n",
    "1.    **Collaborative filtering**\n",
    "\n",
    "Collaborative filtering approaches build a model from user’s past behavior (i.e. items purchased or searched by the user) as well as similar decisions made by other users. This model is then used to predict items (or ratings for items) that user may have an interest in.\n",
    "\n",
    "Collaborative Filtering, on the other hand, doesn’t need anything else except users’ historical preference on a set of items. Because it’s based on historical data, the core assumption here is that the users who have agreed in the past tend to also agree in the future. \n",
    "\n",
    "2.    **Content-based filtering**\n",
    "\n",
    "Content-based filtering approaches uses a series of discrete characteristics of an item in order to recommend additional items with similar properties. Content-based filtering methods are totally based on a description of the item and a profile of the user’s preferences. It recommends items based on user’s past preferences.\n",
    "\n",
    "Content-based approach requires a good amount of information of items’ own features, rather than using users’ interactions and feedbacks. For example, it can be movie attributes such as genre, year, director, actor etc., or textual content of articles that can extracted by applying Natural Language Processing. \n",
    "\n",
    "<hr>"
   ]
  },
  {
   "cell_type": "markdown",
   "metadata": {},
   "source": [
    "Back to Stanley. Instead of focusing on his friends, we could focus on what items from all the options are more similar to what we know he enjoys. This new focus is known as Item-Based Collaborative Filtering (IB-CF).\n",
    "\n",
    "We could divide IB-CF in two sub tasks:\n",
    "\n",
    "### 1. Calculate similarity among the items:\n",
    "\n",
    "-    Cosine-Based Similarity\n",
    "-    Correlation-Based Similarity\n",
    "-    Adjusted Cosine Similarity\n",
    "-    1-Jaccard distance\n",
    "\n",
    "### 2. Calculation of Prediction:\n",
    "\n",
    "-    Weighted Sum\n",
    "-    Regression"
   ]
  },
  {
   "cell_type": "markdown",
   "metadata": {},
   "source": [
    "<img src='a_img.png'>"
   ]
  },
  {
   "cell_type": "markdown",
   "metadata": {},
   "source": [
    "# __Simple Case__\n",
    "\n",
    "Rekomendasi diberikan berdasarkan features dari item yang disukai user"
   ]
  },
  {
   "cell_type": "code",
   "execution_count": 7,
   "metadata": {},
   "outputs": [],
   "source": [
    "import pandas as pd\n",
    "import numpy as np\n",
    "\n",
    "from sklearn.feature_extraction.text import CountVectorizer\n",
    "from sklearn.metrics.pairwise import cosine_similarity"
   ]
  },
  {
   "cell_type": "code",
   "execution_count": 8,
   "metadata": {},
   "outputs": [
    {
     "data": {
      "text/html": [
       "<div>\n",
       "<style scoped>\n",
       "    .dataframe tbody tr th:only-of-type {\n",
       "        vertical-align: middle;\n",
       "    }\n",
       "\n",
       "    .dataframe tbody tr th {\n",
       "        vertical-align: top;\n",
       "    }\n",
       "\n",
       "    .dataframe thead th {\n",
       "        text-align: right;\n",
       "    }\n",
       "</style>\n",
       "<table border=\"1\" class=\"dataframe\">\n",
       "  <thead>\n",
       "    <tr style=\"text-align: right;\">\n",
       "      <th></th>\n",
       "      <th>title</th>\n",
       "      <th>genre</th>\n",
       "      <th>label</th>\n",
       "    </tr>\n",
       "  </thead>\n",
       "  <tbody>\n",
       "    <tr>\n",
       "      <th>0</th>\n",
       "      <td>A</td>\n",
       "      <td>Pop</td>\n",
       "      <td>PT. A</td>\n",
       "    </tr>\n",
       "    <tr>\n",
       "      <th>1</th>\n",
       "      <td>B</td>\n",
       "      <td>Keroncong</td>\n",
       "      <td>PT. A</td>\n",
       "    </tr>\n",
       "    <tr>\n",
       "      <th>2</th>\n",
       "      <td>C</td>\n",
       "      <td>Dangdut</td>\n",
       "      <td>PT. A</td>\n",
       "    </tr>\n",
       "    <tr>\n",
       "      <th>3</th>\n",
       "      <td>D</td>\n",
       "      <td>Pop</td>\n",
       "      <td>PT. B</td>\n",
       "    </tr>\n",
       "    <tr>\n",
       "      <th>4</th>\n",
       "      <td>E</td>\n",
       "      <td>Keroncong</td>\n",
       "      <td>PT. B</td>\n",
       "    </tr>\n",
       "    <tr>\n",
       "      <th>5</th>\n",
       "      <td>F</td>\n",
       "      <td>Dangdut</td>\n",
       "      <td>PT. B</td>\n",
       "    </tr>\n",
       "    <tr>\n",
       "      <th>6</th>\n",
       "      <td>G</td>\n",
       "      <td>Pop</td>\n",
       "      <td>PT. C</td>\n",
       "    </tr>\n",
       "    <tr>\n",
       "      <th>7</th>\n",
       "      <td>H</td>\n",
       "      <td>Keroncong</td>\n",
       "      <td>PT. C</td>\n",
       "    </tr>\n",
       "    <tr>\n",
       "      <th>8</th>\n",
       "      <td>I</td>\n",
       "      <td>Dangdut</td>\n",
       "      <td>PT. C</td>\n",
       "    </tr>\n",
       "    <tr>\n",
       "      <th>9</th>\n",
       "      <td>J</td>\n",
       "      <td>Pop</td>\n",
       "      <td>PT. C</td>\n",
       "    </tr>\n",
       "  </tbody>\n",
       "</table>\n",
       "</div>"
      ],
      "text/plain": [
       "  title      genre  label\n",
       "0     A        Pop  PT. A\n",
       "1     B  Keroncong  PT. A\n",
       "2     C    Dangdut  PT. A\n",
       "3     D        Pop  PT. B\n",
       "4     E  Keroncong  PT. B\n",
       "5     F    Dangdut  PT. B\n",
       "6     G        Pop  PT. C\n",
       "7     H  Keroncong  PT. C\n",
       "8     I    Dangdut  PT. C\n",
       "9     J        Pop  PT. C"
      ]
     },
     "execution_count": 8,
     "metadata": {},
     "output_type": "execute_result"
    }
   ],
   "source": [
    "df = pd.DataFrame([\n",
    "    {'title': 'A', 'genre': 'Pop', 'label': 'PT. A'},\n",
    "    {'title': 'B', 'genre': 'Keroncong', 'label': 'PT. A'},\n",
    "    {'title': 'C', 'genre': 'Dangdut', 'label': 'PT. A'},\n",
    "    {'title': 'D', 'genre': 'Pop', 'label': 'PT. B'},\n",
    "    {'title': 'E', 'genre': 'Keroncong', 'label': 'PT. B'},\n",
    "    {'title': 'F', 'genre': 'Dangdut', 'label': 'PT. B'},\n",
    "    {'title': 'G', 'genre': 'Pop', 'label': 'PT. C'},\n",
    "    {'title': 'H', 'genre': 'Keroncong', 'label': 'PT. C'},\n",
    "    {'title': 'I', 'genre': 'Dangdut', 'label': 'PT. C'},\n",
    "    {'title': 'J', 'genre': 'Pop', 'label': 'PT. C'}\n",
    "])\n",
    "\n",
    "df"
   ]
  },
  {
   "cell_type": "code",
   "execution_count": 9,
   "metadata": {},
   "outputs": [
    {
     "data": {
      "text/plain": [
       "['dangdut', 'keroncong', 'pop']"
      ]
     },
     "execution_count": 9,
     "metadata": {},
     "output_type": "execute_result"
    }
   ],
   "source": [
    "ecv = CountVectorizer()\n",
    "mgenre = ecv.fit_transform(df['genre'])\n",
    "ecv.get_feature_names()"
   ]
  },
  {
   "cell_type": "code",
   "execution_count": 31,
   "metadata": {},
   "outputs": [
    {
     "data": {
      "text/plain": [
       "<850x40 sparse matrix of type '<class 'numpy.int64'>'\n",
       "\twith 3696 stored elements in Compressed Sparse Row format>"
      ]
     },
     "execution_count": 31,
     "metadata": {},
     "output_type": "execute_result"
    }
   ],
   "source": [
    "mgenre"
   ]
  },
  {
   "cell_type": "code",
   "execution_count": 10,
   "metadata": {},
   "outputs": [
    {
     "data": {
      "text/plain": [
       "array([[0, 0, 1],\n",
       "       [0, 1, 0],\n",
       "       [1, 0, 0],\n",
       "       [0, 0, 1],\n",
       "       [0, 1, 0],\n",
       "       [1, 0, 0],\n",
       "       [0, 0, 1],\n",
       "       [0, 1, 0],\n",
       "       [1, 0, 0],\n",
       "       [0, 0, 1]], dtype=int64)"
      ]
     },
     "execution_count": 10,
     "metadata": {},
     "output_type": "execute_result"
    }
   ],
   "source": [
    "mgenre.toarray()"
   ]
  },
  {
   "cell_type": "markdown",
   "metadata": {},
   "source": [
    "<img src = 'b_img.png'>"
   ]
  },
  {
   "cell_type": "code",
   "execution_count": 11,
   "metadata": {},
   "outputs": [
    {
     "data": {
      "text/plain": [
       "array([[1., 0., 0., 1., 0., 0., 1., 0., 0., 1.],\n",
       "       [0., 1., 0., 0., 1., 0., 0., 1., 0., 0.],\n",
       "       [0., 0., 1., 0., 0., 1., 0., 0., 1., 0.],\n",
       "       [1., 0., 0., 1., 0., 0., 1., 0., 0., 1.],\n",
       "       [0., 1., 0., 0., 1., 0., 0., 1., 0., 0.],\n",
       "       [0., 0., 1., 0., 0., 1., 0., 0., 1., 0.],\n",
       "       [1., 0., 0., 1., 0., 0., 1., 0., 0., 1.],\n",
       "       [0., 1., 0., 0., 1., 0., 0., 1., 0., 0.],\n",
       "       [0., 0., 1., 0., 0., 1., 0., 0., 1., 0.],\n",
       "       [1., 0., 0., 1., 0., 0., 1., 0., 0., 1.]])"
      ]
     },
     "execution_count": 11,
     "metadata": {},
     "output_type": "execute_result"
    }
   ],
   "source": [
    "cosScore = cosine_similarity(mgenre)\n",
    "cosScore"
   ]
  },
  {
   "cell_type": "code",
   "execution_count": 12,
   "metadata": {},
   "outputs": [
    {
     "data": {
      "text/plain": [
       "(10, 10)"
      ]
     },
     "execution_count": 12,
     "metadata": {},
     "output_type": "execute_result"
    }
   ],
   "source": [
    "cosScore.shape"
   ]
  },
  {
   "cell_type": "code",
   "execution_count": 37,
   "metadata": {},
   "outputs": [
    {
     "data": {
      "text/plain": [
       "[(7, 1.0),\n",
       " (413, 1.0),\n",
       " (92, 0.8944271909999159),\n",
       " (296, 0.8944271909999159),\n",
       " (448, 0.8944271909999159)]"
      ]
     },
     "execution_count": 37,
     "metadata": {},
     "output_type": "execute_result"
    }
   ],
   "source": [
    "# ada user suka produk index ke 7\n",
    "produkMirip = list(enumerate(cosScore[7]))\n",
    "produkMirip = sorted(produkMirip, key = lambda x: x[1], reverse=True)\n",
    "produkMirip[:5]"
   ]
  },
  {
   "cell_type": "code",
   "execution_count": 14,
   "metadata": {},
   "outputs": [
    {
     "name": "stdout",
     "output_type": "stream",
     "text": [
      "title            B\n",
      "genre    Keroncong\n",
      "label        PT. A\n",
      "Name: 1, dtype: object\n",
      "title            E\n",
      "genre    Keroncong\n",
      "label        PT. B\n",
      "Name: 4, dtype: object\n",
      "title            H\n",
      "genre    Keroncong\n",
      "label        PT. C\n",
      "Name: 7, dtype: object\n",
      "title        A\n",
      "genre      Pop\n",
      "label    PT. A\n",
      "Name: 0, dtype: object\n",
      "title          C\n",
      "genre    Dangdut\n",
      "label      PT. A\n",
      "Name: 2, dtype: object\n"
     ]
    }
   ],
   "source": [
    "for i in produkMirip[:5]:\n",
    "    print(df.iloc[i[0]])"
   ]
  },
  {
   "cell_type": "markdown",
   "metadata": {},
   "source": [
    "<hr>\n",
    "\n",
    "# Anime Recomendation\n",
    "### **Content-based filtering**"
   ]
  },
  {
   "cell_type": "code",
   "execution_count": 101,
   "metadata": {},
   "outputs": [
    {
     "data": {
      "text/html": [
       "<div>\n",
       "<style scoped>\n",
       "    .dataframe tbody tr th:only-of-type {\n",
       "        vertical-align: middle;\n",
       "    }\n",
       "\n",
       "    .dataframe tbody tr th {\n",
       "        vertical-align: top;\n",
       "    }\n",
       "\n",
       "    .dataframe thead th {\n",
       "        text-align: right;\n",
       "    }\n",
       "</style>\n",
       "<table border=\"1\" class=\"dataframe\">\n",
       "  <thead>\n",
       "    <tr style=\"text-align: right;\">\n",
       "      <th></th>\n",
       "      <th>anime_id</th>\n",
       "      <th>name</th>\n",
       "      <th>genre</th>\n",
       "      <th>type</th>\n",
       "      <th>episodes</th>\n",
       "      <th>rating</th>\n",
       "      <th>members</th>\n",
       "    </tr>\n",
       "  </thead>\n",
       "  <tbody>\n",
       "    <tr>\n",
       "      <th>0</th>\n",
       "      <td>32281</td>\n",
       "      <td>Kimi no Na wa.</td>\n",
       "      <td>Drama, Romance, School, Supernatural</td>\n",
       "      <td>Movie</td>\n",
       "      <td>1</td>\n",
       "      <td>9.37</td>\n",
       "      <td>200630</td>\n",
       "    </tr>\n",
       "    <tr>\n",
       "      <th>1</th>\n",
       "      <td>5114</td>\n",
       "      <td>Fullmetal Alchemist: Brotherhood</td>\n",
       "      <td>Action, Adventure, Drama, Fantasy, Magic, Mili...</td>\n",
       "      <td>TV</td>\n",
       "      <td>64</td>\n",
       "      <td>9.26</td>\n",
       "      <td>793665</td>\n",
       "    </tr>\n",
       "    <tr>\n",
       "      <th>2</th>\n",
       "      <td>28977</td>\n",
       "      <td>Gintama°</td>\n",
       "      <td>Action, Comedy, Historical, Parody, Samurai, S...</td>\n",
       "      <td>TV</td>\n",
       "      <td>51</td>\n",
       "      <td>9.25</td>\n",
       "      <td>114262</td>\n",
       "    </tr>\n",
       "    <tr>\n",
       "      <th>3</th>\n",
       "      <td>9253</td>\n",
       "      <td>Steins;Gate</td>\n",
       "      <td>Sci-Fi, Thriller</td>\n",
       "      <td>TV</td>\n",
       "      <td>24</td>\n",
       "      <td>9.17</td>\n",
       "      <td>673572</td>\n",
       "    </tr>\n",
       "    <tr>\n",
       "      <th>4</th>\n",
       "      <td>9969</td>\n",
       "      <td>Gintama&amp;#039;</td>\n",
       "      <td>Action, Comedy, Historical, Parody, Samurai, S...</td>\n",
       "      <td>TV</td>\n",
       "      <td>51</td>\n",
       "      <td>9.16</td>\n",
       "      <td>151266</td>\n",
       "    </tr>\n",
       "  </tbody>\n",
       "</table>\n",
       "</div>"
      ],
      "text/plain": [
       "   anime_id                              name  \\\n",
       "0     32281                    Kimi no Na wa.   \n",
       "1      5114  Fullmetal Alchemist: Brotherhood   \n",
       "2     28977                          Gintama°   \n",
       "3      9253                       Steins;Gate   \n",
       "4      9969                     Gintama&#039;   \n",
       "\n",
       "                                               genre   type episodes  rating  \\\n",
       "0               Drama, Romance, School, Supernatural  Movie        1    9.37   \n",
       "1  Action, Adventure, Drama, Fantasy, Magic, Mili...     TV       64    9.26   \n",
       "2  Action, Comedy, Historical, Parody, Samurai, S...     TV       51    9.25   \n",
       "3                                   Sci-Fi, Thriller     TV       24    9.17   \n",
       "4  Action, Comedy, Historical, Parody, Samurai, S...     TV       51    9.16   \n",
       "\n",
       "   members  \n",
       "0   200630  \n",
       "1   793665  \n",
       "2   114262  \n",
       "3   673572  \n",
       "4   151266  "
      ]
     },
     "execution_count": 101,
     "metadata": {},
     "output_type": "execute_result"
    }
   ],
   "source": [
    "df = pd.read_csv('anime.csv')\n",
    "df = df.iloc[0:850] #too large dataset\n",
    "df.head()\n",
    "# df['type'].unique()"
   ]
  },
  {
   "cell_type": "code",
   "execution_count": 97,
   "metadata": {},
   "outputs": [
    {
     "data": {
      "text/html": [
       "<div>\n",
       "<style scoped>\n",
       "    .dataframe tbody tr th:only-of-type {\n",
       "        vertical-align: middle;\n",
       "    }\n",
       "\n",
       "    .dataframe tbody tr th {\n",
       "        vertical-align: top;\n",
       "    }\n",
       "\n",
       "    .dataframe thead th {\n",
       "        text-align: right;\n",
       "    }\n",
       "</style>\n",
       "<table border=\"1\" class=\"dataframe\">\n",
       "  <thead>\n",
       "    <tr style=\"text-align: right;\">\n",
       "      <th></th>\n",
       "      <th>anime_id</th>\n",
       "      <th>name</th>\n",
       "      <th>genre</th>\n",
       "      <th>type</th>\n",
       "      <th>episodes</th>\n",
       "      <th>rating</th>\n",
       "      <th>members</th>\n",
       "    </tr>\n",
       "  </thead>\n",
       "  <tbody>\n",
       "    <tr>\n",
       "      <th>208</th>\n",
       "      <td>28725</td>\n",
       "      <td>Kokoro ga Sakebitagatterunda.</td>\n",
       "      <td>Drama, Romance, School</td>\n",
       "      <td>Movie</td>\n",
       "      <td>1</td>\n",
       "      <td>8.32</td>\n",
       "      <td>59652</td>\n",
       "    </tr>\n",
       "  </tbody>\n",
       "</table>\n",
       "</div>"
      ],
      "text/plain": [
       "     anime_id                           name                   genre   type  \\\n",
       "208     28725  Kokoro ga Sakebitagatterunda.  Drama, Romance, School  Movie   \n",
       "\n",
       "    episodes  rating  members  \n",
       "208        1    8.32    59652  "
      ]
     },
     "execution_count": 97,
     "metadata": {},
     "output_type": "execute_result"
    }
   ],
   "source": [
    "# anime yang memiliki genre paling mirip dengan 'Kimi no Na wa.'\n",
    "df[df['name']=='Kokoro ga Sakebitagatterunda.']"
   ]
  },
  {
   "cell_type": "code",
   "execution_count": 98,
   "metadata": {},
   "outputs": [
    {
     "data": {
      "text/html": [
       "<div>\n",
       "<style scoped>\n",
       "    .dataframe tbody tr th:only-of-type {\n",
       "        vertical-align: middle;\n",
       "    }\n",
       "\n",
       "    .dataframe tbody tr th {\n",
       "        vertical-align: top;\n",
       "    }\n",
       "\n",
       "    .dataframe thead th {\n",
       "        text-align: right;\n",
       "    }\n",
       "</style>\n",
       "<table border=\"1\" class=\"dataframe\">\n",
       "  <thead>\n",
       "    <tr style=\"text-align: right;\">\n",
       "      <th></th>\n",
       "      <th>anime_id</th>\n",
       "      <th>name</th>\n",
       "      <th>genre</th>\n",
       "      <th>type</th>\n",
       "      <th>episodes</th>\n",
       "      <th>rating</th>\n",
       "      <th>members</th>\n",
       "    </tr>\n",
       "  </thead>\n",
       "  <tbody>\n",
       "    <tr>\n",
       "      <th>504</th>\n",
       "      <td>6351</td>\n",
       "      <td>Clannad: After Story - Mou Hitotsu no Sekai, K...</td>\n",
       "      <td>Drama, Romance, School</td>\n",
       "      <td>Special</td>\n",
       "      <td>1</td>\n",
       "      <td>8.02</td>\n",
       "      <td>138364</td>\n",
       "    </tr>\n",
       "  </tbody>\n",
       "</table>\n",
       "</div>"
      ],
      "text/plain": [
       "     anime_id                                               name  \\\n",
       "504      6351  Clannad: After Story - Mou Hitotsu no Sekai, K...   \n",
       "\n",
       "                      genre     type episodes  rating  members  \n",
       "504  Drama, Romance, School  Special        1    8.02   138364  "
      ]
     },
     "execution_count": 98,
     "metadata": {},
     "output_type": "execute_result"
    }
   ],
   "source": [
    "df[df['name']=='Clannad: After Story - Mou Hitotsu no Sekai, Kyou-hen']"
   ]
  },
  {
   "cell_type": "code",
   "execution_count": 63,
   "metadata": {},
   "outputs": [],
   "source": [
    "# df['genre'].unique()"
   ]
  },
  {
   "cell_type": "code",
   "execution_count": 34,
   "metadata": {},
   "outputs": [
    {
     "data": {
      "text/plain": [
       "850"
      ]
     },
     "execution_count": 34,
     "metadata": {},
     "output_type": "execute_result"
    }
   ],
   "source": [
    "len(df['name'])"
   ]
  },
  {
   "cell_type": "code",
   "execution_count": 35,
   "metadata": {},
   "outputs": [
    {
     "data": {
      "text/plain": [
       "anime_id    0\n",
       "name        0\n",
       "genre       0\n",
       "type        0\n",
       "episodes    0\n",
       "rating      0\n",
       "members     0\n",
       "dtype: int64"
      ]
     },
     "execution_count": 35,
     "metadata": {},
     "output_type": "execute_result"
    }
   ],
   "source": [
    "df.isnull().sum()"
   ]
  },
  {
   "cell_type": "code",
   "execution_count": 19,
   "metadata": {},
   "outputs": [],
   "source": [
    "df = df.dropna()"
   ]
  },
  {
   "cell_type": "code",
   "execution_count": 20,
   "metadata": {},
   "outputs": [
    {
     "data": {
      "text/plain": [
       "anime_id    0\n",
       "name        0\n",
       "genre       0\n",
       "type        0\n",
       "episodes    0\n",
       "rating      0\n",
       "members     0\n",
       "dtype: int64"
      ]
     },
     "execution_count": 20,
     "metadata": {},
     "output_type": "execute_result"
    }
   ],
   "source": [
    "df.isnull().sum()"
   ]
  },
  {
   "cell_type": "code",
   "execution_count": 21,
   "metadata": {},
   "outputs": [
    {
     "data": {
      "text/plain": [
       "850"
      ]
     },
     "execution_count": 21,
     "metadata": {},
     "output_type": "execute_result"
    }
   ],
   "source": [
    "len(df['name'])"
   ]
  },
  {
   "cell_type": "markdown",
   "metadata": {},
   "source": [
    "**Mendapatkan genre**"
   ]
  },
  {
   "cell_type": "code",
   "execution_count": 65,
   "metadata": {},
   "outputs": [
    {
     "name": "stdout",
     "output_type": "stream",
     "text": [
      "40\n",
      "['action', 'adventure', 'cars', 'comedy', 'dementia', 'demons', 'drama', 'ecchi', 'fantasy', 'game', 'harem', 'historical', 'horror', 'josei', 'kids', 'magic', 'martial arts', 'mecha', 'military', 'music', 'mystery', 'parody', 'police', 'psychological', 'romance', 'samurai', 'school', 'sci-fi', 'seinen', 'shoujo', 'shoujo ai', 'shounen', 'shounen ai', 'slice of life', 'space', 'sports', 'super power', 'supernatural', 'thriller', 'vampire']\n"
     ]
    }
   ],
   "source": [
    "ext = CountVectorizer(\n",
    "    tokenizer = lambda x: x.split(', ') #hanya koma dan spasi untuk memecah genre \n",
    ")\n",
    "\n",
    "mgenre = ext.fit_transform(df['genre'])\n",
    "\n",
    "print(len(ext.get_feature_names()))\n",
    "print(ext.get_feature_names())"
   ]
  },
  {
   "cell_type": "code",
   "execution_count": 23,
   "metadata": {},
   "outputs": [
    {
     "data": {
      "text/plain": [
       "array([[0, 0, 0, ..., 1, 0, 0],\n",
       "       [1, 1, 0, ..., 0, 0, 0],\n",
       "       [1, 0, 0, ..., 0, 0, 0],\n",
       "       ...,\n",
       "       [1, 0, 0, ..., 1, 0, 0],\n",
       "       [0, 0, 0, ..., 0, 0, 0],\n",
       "       [0, 0, 0, ..., 0, 0, 0]], dtype=int64)"
      ]
     },
     "execution_count": 23,
     "metadata": {},
     "output_type": "execute_result"
    }
   ],
   "source": [
    "mgenre.toarray()"
   ]
  },
  {
   "cell_type": "code",
   "execution_count": 24,
   "metadata": {},
   "outputs": [],
   "source": [
    "cosScore = cosine_similarity(mgenre)\n",
    "cosScore # semua data\n",
    "# cosScore[0] # cos score semua data terhadap anime ke-0"
   ]
  },
  {
   "cell_type": "markdown",
   "metadata": {},
   "source": [
    "## **Trying Recommender**"
   ]
  },
  {
   "cell_type": "code",
   "execution_count": 89,
   "metadata": {},
   "outputs": [
    {
     "data": {
      "text/plain": [
       "0"
      ]
     },
     "execution_count": 89,
     "metadata": {},
     "output_type": "execute_result"
    }
   ],
   "source": [
    "animeSuka = \"Kimi no Na wa.\"\n",
    "indexSuka = df[df['name'] == animeSuka].index[0]\n",
    "indexSuka"
   ]
  },
  {
   "cell_type": "code",
   "execution_count": 90,
   "metadata": {},
   "outputs": [],
   "source": [
    "animeSama = list(enumerate(cosScore[indexSuka]))\n",
    "# animeSama"
   ]
  },
  {
   "cell_type": "code",
   "execution_count": 91,
   "metadata": {},
   "outputs": [],
   "source": [
    "# 1. ranking manual\n",
    "animeSamaSortir = sorted(animeSama, key=lambda x:x[1], reverse=True)\n",
    "# animeSamaSortir"
   ]
  },
  {
   "cell_type": "code",
   "execution_count": 92,
   "metadata": {},
   "outputs": [],
   "source": [
    "# 2. filter yang cosine similarity score-nya lebih dari 70%\n",
    "animeSama = list(filter(lambda x: x[1] > 0.7, animeSama))\n",
    "# list(animeSama)"
   ]
  },
  {
   "cell_type": "code",
   "execution_count": 93,
   "metadata": {},
   "outputs": [],
   "source": [
    "# 2. ranking manual\n",
    "animeSama = sorted(animeSama, key=lambda x:x[1], reverse=True)\n",
    "# animeSama"
   ]
  },
  {
   "cell_type": "code",
   "execution_count": 95,
   "metadata": {},
   "outputs": [
    {
     "name": "stdout",
     "output_type": "stream",
     "text": [
      "Kokoro ga Sakebitagatterunda.\n",
      "Clannad: After Story - Mou Hitotsu no Sekai, Kyou-hen\n",
      "Little Busters!: Refrain\n",
      "Clannad\n",
      "Kokoro Connect: Michi Random\n",
      "Kokoro Connect\n",
      "Little Busters!: EX\n",
      "Hotarubi no Mori e\n",
      "Yahari Ore no Seishun Love Comedy wa Machigatteiru. Zoku\n"
     ]
    }
   ],
   "source": [
    "# Rekomendasi untuk kamu yang suka \"Kimi no Na wa.\"\n",
    "for i in animeSama[1:10]:\n",
    "    print(df.iloc[i[0]]['name'])"
   ]
  },
  {
   "cell_type": "markdown",
   "metadata": {},
   "source": [
    "<hr>\n",
    "\n",
    "## **Take Class Exercise**\n",
    "#### 1. Create Recommender System based on 'type' feature\n",
    "#### 2. Create Recommender System based on 'genre' & 'type' feature\n",
    "\n",
    "## **Take Home Exercise**\n",
    "#### 3. Create Recommender System based on 'rating' & 'type' feature"
   ]
  },
  {
   "cell_type": "markdown",
   "metadata": {},
   "source": [
    "# **Reference**:\n",
    "- Carlos Pinela, \"Recommender Systems — User-Based and Item-Based Collaborative Filtering\", https://medium.com/@cfpinela/recommender-systems-user-based-and-item-based-collaborative-filtering-5d5f375a127f\n",
    "- Rakesh4real, \"User-Based and Item-Based Collaborative Filtering — Part 5\", https://medium.com/fnplus/user-based-and-item-based-collaborative-filtering-b73d9b2badba\n",
    "- Muffaddal Qutbuddin, \"Comprehensive Guide on Item Based Collaborative Filtering\", https://towardsdatascience.com/comprehensive-guide-on-item-based-recommendation-systems-d67e40e2b75d\n",
    "- Aishwarya.27, \"Python | Implementation of Movie Recommender System\", https://www.geeksforgeeks.org/python-implementation-of-movie-recommender-system/\n",
    "- Shuyu Luo, \"Introduction to Recommender System\", https://towardsdatascience.com/intro-to-recommender-system-collaborative-filtering-64a238194a26\n",
    "- Kevin Liao, \"Prototyping a Recommender System Step by Step Part 1: KNN Item-Based Collaborative Filtering\", https://towardsdatascience.com/prototyping-a-recommender-system-step-by-step-part-1-knn-item-based-collaborative-filtering-637969614ea",
    "- Dataset Source, https://www.kaggle.com/CooperUnion/anime-recommendations-database"
   ]
  }
 ],
 "metadata": {
  "kernelspec": {
   "display_name": "Python 3.8.1 32-bit",
   "language": "python",
   "name": "python38132bitf9f79e71b62e4503b25567c1d3914456"
  },
  "language_info": {
   "codemirror_mode": {
    "name": "ipython",
    "version": 3
   },
   "file_extension": ".py",
   "mimetype": "text/x-python",
   "name": "python",
   "nbconvert_exporter": "python",
   "pygments_lexer": "ipython3",
   "version": "3.8.1"
  }
 },
 "nbformat": 4,
 "nbformat_minor": 4
}
